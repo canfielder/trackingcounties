{
 "cells": [
  {
   "attachments": {},
   "cell_type": "markdown",
   "metadata": {},
   "source": [
    "# Purpose\n",
    "The purpose of this notebook is to unzip and prepare the Shapefiles that will be used to generate visuals. \n",
    "\n",
    "Shapefile Source: (https://www.census.gov/geographies/mapping-files/time-series/geo/tiger-line-file.html)[https://www.census.gov/geographies/mapping-files/time-series/geo/tiger-line-file.html]"
   ]
  },
  {
   "attachments": {},
   "cell_type": "markdown",
   "metadata": {},
   "source": [
    "# Setup"
   ]
  },
  {
   "attachments": {},
   "cell_type": "markdown",
   "metadata": {},
   "source": [
    "## Import - Packages"
   ]
  },
  {
   "cell_type": "code",
   "execution_count": 1,
   "metadata": {},
   "outputs": [],
   "source": [
    "# -------------------------------------------------------------------------- #\n",
    "# GENERAL #\n",
    "import os\n",
    "import pathlib as pl\n",
    "import sys\n",
    "import zipfile\n",
    "\n",
    "# -------------------------------------------------------------------------- #\n",
    "# ANALYSIS\n",
    "import numpy as np\n",
    "import pandas as pd\n",
    "import siuba as s\n",
    "\n",
    "# -------------------------------------------------------------------------- #\n",
    "# LOCAL #\n",
    "from tracking_counties.config import SEED, ROOT_DIR"
   ]
  },
  {
   "attachments": {},
   "cell_type": "markdown",
   "metadata": {},
   "source": [
    "## Import - Visited Tables"
   ]
  },
  {
   "cell_type": "code",
   "execution_count": 2,
   "metadata": {},
   "outputs": [],
   "source": [
    "table_dir = pl.PurePath(ROOT_DIR, 'data', 'tables')\n",
    "county_path = pl.PurePath(table_dir, 'list_of_counties_active.csv')\n",
    "\n",
    "df_counties = pd.read_csv(county_path)"
   ]
  },
  {
   "cell_type": "code",
   "execution_count": 4,
   "metadata": {},
   "outputs": [
    {
     "data": {
      "text/html": [
       "<div>\n",
       "<style scoped>\n",
       "    .dataframe tbody tr th:only-of-type {\n",
       "        vertical-align: middle;\n",
       "    }\n",
       "\n",
       "    .dataframe tbody tr th {\n",
       "        vertical-align: top;\n",
       "    }\n",
       "\n",
       "    .dataframe thead th {\n",
       "        text-align: right;\n",
       "    }\n",
       "</style>\n",
       "<table border=\"1\" class=\"dataframe\">\n",
       "  <thead>\n",
       "    <tr style=\"text-align: right;\">\n",
       "      <th></th>\n",
       "      <th>Unnamed: 0</th>\n",
       "      <th>state</th>\n",
       "      <th>state_code</th>\n",
       "      <th>state_name</th>\n",
       "      <th>county_code</th>\n",
       "      <th>county</th>\n",
       "      <th>Visited</th>\n",
       "      <th>date</th>\n",
       "    </tr>\n",
       "  </thead>\n",
       "  <tbody>\n",
       "    <tr>\n",
       "      <th>0</th>\n",
       "      <td>2781</td>\n",
       "      <td>UT</td>\n",
       "      <td>49</td>\n",
       "      <td>Utah</td>\n",
       "      <td>3</td>\n",
       "      <td>Box Elder County</td>\n",
       "      <td>1</td>\n",
       "      <td>5/24/2019</td>\n",
       "    </tr>\n",
       "    <tr>\n",
       "      <th>1</th>\n",
       "      <td>2785</td>\n",
       "      <td>UT</td>\n",
       "      <td>49</td>\n",
       "      <td>Utah</td>\n",
       "      <td>11</td>\n",
       "      <td>Davis County</td>\n",
       "      <td>1</td>\n",
       "      <td>5/24/2019</td>\n",
       "    </tr>\n",
       "    <tr>\n",
       "      <th>2</th>\n",
       "      <td>2797</td>\n",
       "      <td>UT</td>\n",
       "      <td>49</td>\n",
       "      <td>Utah</td>\n",
       "      <td>35</td>\n",
       "      <td>Salt Lake County</td>\n",
       "      <td>1</td>\n",
       "      <td>5/24/2019</td>\n",
       "    </tr>\n",
       "    <tr>\n",
       "      <th>3</th>\n",
       "      <td>2808</td>\n",
       "      <td>UT</td>\n",
       "      <td>49</td>\n",
       "      <td>Utah</td>\n",
       "      <td>57</td>\n",
       "      <td>Weber County</td>\n",
       "      <td>1</td>\n",
       "      <td>5/24/2019</td>\n",
       "    </tr>\n",
       "    <tr>\n",
       "      <th>4</th>\n",
       "      <td>2791</td>\n",
       "      <td>UT</td>\n",
       "      <td>49</td>\n",
       "      <td>Utah</td>\n",
       "      <td>23</td>\n",
       "      <td>Juab County</td>\n",
       "      <td>1</td>\n",
       "      <td>5/25/2019</td>\n",
       "    </tr>\n",
       "    <tr>\n",
       "      <th>...</th>\n",
       "      <td>...</td>\n",
       "      <td>...</td>\n",
       "      <td>...</td>\n",
       "      <td>...</td>\n",
       "      <td>...</td>\n",
       "      <td>...</td>\n",
       "      <td>...</td>\n",
       "      <td>...</td>\n",
       "    </tr>\n",
       "    <tr>\n",
       "      <th>3140</th>\n",
       "      <td>3141</td>\n",
       "      <td>WY</td>\n",
       "      <td>56</td>\n",
       "      <td>Wyoming</td>\n",
       "      <td>37</td>\n",
       "      <td>Sweetwater County</td>\n",
       "      <td>0</td>\n",
       "      <td>NaN</td>\n",
       "    </tr>\n",
       "    <tr>\n",
       "      <th>3141</th>\n",
       "      <td>3142</td>\n",
       "      <td>WY</td>\n",
       "      <td>56</td>\n",
       "      <td>Wyoming</td>\n",
       "      <td>39</td>\n",
       "      <td>Teton County</td>\n",
       "      <td>0</td>\n",
       "      <td>NaN</td>\n",
       "    </tr>\n",
       "    <tr>\n",
       "      <th>3142</th>\n",
       "      <td>3143</td>\n",
       "      <td>WY</td>\n",
       "      <td>56</td>\n",
       "      <td>Wyoming</td>\n",
       "      <td>41</td>\n",
       "      <td>Uinta County</td>\n",
       "      <td>0</td>\n",
       "      <td>NaN</td>\n",
       "    </tr>\n",
       "    <tr>\n",
       "      <th>3143</th>\n",
       "      <td>3144</td>\n",
       "      <td>WY</td>\n",
       "      <td>56</td>\n",
       "      <td>Wyoming</td>\n",
       "      <td>43</td>\n",
       "      <td>Washakie County</td>\n",
       "      <td>0</td>\n",
       "      <td>NaN</td>\n",
       "    </tr>\n",
       "    <tr>\n",
       "      <th>3144</th>\n",
       "      <td>3145</td>\n",
       "      <td>WY</td>\n",
       "      <td>56</td>\n",
       "      <td>Wyoming</td>\n",
       "      <td>45</td>\n",
       "      <td>Weston County</td>\n",
       "      <td>0</td>\n",
       "      <td>NaN</td>\n",
       "    </tr>\n",
       "  </tbody>\n",
       "</table>\n",
       "<p>3145 rows × 8 columns</p>\n",
       "</div>"
      ],
      "text/plain": [
       "      Unnamed: 0 state  state_code state_name  county_code             county  \\\n",
       "0           2781    UT          49       Utah            3   Box Elder County   \n",
       "1           2785    UT          49       Utah           11       Davis County   \n",
       "2           2797    UT          49       Utah           35   Salt Lake County   \n",
       "3           2808    UT          49       Utah           57       Weber County   \n",
       "4           2791    UT          49       Utah           23        Juab County   \n",
       "...          ...   ...         ...        ...          ...                ...   \n",
       "3140        3141    WY          56    Wyoming           37  Sweetwater County   \n",
       "3141        3142    WY          56    Wyoming           39       Teton County   \n",
       "3142        3143    WY          56    Wyoming           41       Uinta County   \n",
       "3143        3144    WY          56    Wyoming           43    Washakie County   \n",
       "3144        3145    WY          56    Wyoming           45      Weston County   \n",
       "\n",
       "      Visited       date  \n",
       "0           1  5/24/2019  \n",
       "1           1  5/24/2019  \n",
       "2           1  5/24/2019  \n",
       "3           1  5/24/2019  \n",
       "4           1  5/25/2019  \n",
       "...       ...        ...  \n",
       "3140        0        NaN  \n",
       "3141        0        NaN  \n",
       "3142        0        NaN  \n",
       "3143        0        NaN  \n",
       "3144        0        NaN  \n",
       "\n",
       "[3145 rows x 8 columns]"
      ]
     },
     "execution_count": 4,
     "metadata": {},
     "output_type": "execute_result"
    }
   ],
   "source": [
    "df_counties"
   ]
  },
  {
   "attachments": {},
   "cell_type": "markdown",
   "metadata": {},
   "source": [
    "# Unzip Shapefiles"
   ]
  },
  {
   "attachments": {},
   "cell_type": "markdown",
   "metadata": {},
   "source": [
    "## Counties"
   ]
  },
  {
   "cell_type": "code",
   "execution_count": 3,
   "metadata": {},
   "outputs": [],
   "source": [
    "# Define paths for zipped shapefiles and extract files\n",
    "shapefile_parent_dir = pl.PurePath(ROOT_DIR, 'data', 'shapefiles')\n",
    "zip_path = pl.PurePath(shapefile_parent_dir, 'tl_2023_us_county.zip')\n",
    "extract_path = pl.PurePath(shapefile_parent_dir, '2023_county')\n",
    "\n",
    "# Execute \n",
    "with zipfile.ZipFile(zip_path, 'r') as zip_ref:\n",
    "    zip_ref.extractall(extract_path)"
   ]
  },
  {
   "attachments": {},
   "cell_type": "markdown",
   "metadata": {},
   "source": [
    "## State"
   ]
  },
  {
   "cell_type": "code",
   "execution_count": null,
   "metadata": {},
   "outputs": [],
   "source": []
  },
  {
   "cell_type": "code",
   "execution_count": null,
   "metadata": {},
   "outputs": [],
   "source": []
  }
 ],
 "metadata": {
  "kernelspec": {
   "display_name": ".tracking_counties",
   "language": "python",
   "name": "python3"
  },
  "language_info": {
   "codemirror_mode": {
    "name": "ipython",
    "version": 3
   },
   "file_extension": ".py",
   "mimetype": "text/x-python",
   "name": "python",
   "nbconvert_exporter": "python",
   "pygments_lexer": "ipython3",
   "version": "3.9.9"
  },
  "orig_nbformat": 4
 },
 "nbformat": 4,
 "nbformat_minor": 2
}
