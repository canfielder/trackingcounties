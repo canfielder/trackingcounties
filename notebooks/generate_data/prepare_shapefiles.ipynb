{
 "cells": [
  {
   "attachments": {},
   "cell_type": "markdown",
   "metadata": {},
   "source": [
    "# Purpose\n",
    "The purpose of this notebook is to unzip and prepare the Shapefiles that will be used to generate visuals. \n",
    "\n",
    "Shapefile Source: (https://www.census.gov/geographies/mapping-files/time-series/geo/tiger-line-file.html)[https://www.census.gov/geographies/mapping-files/time-series/geo/tiger-line-file.html]"
   ]
  },
  {
   "attachments": {},
   "cell_type": "markdown",
   "metadata": {},
   "source": [
    "# Setup"
   ]
  },
  {
   "attachments": {},
   "cell_type": "markdown",
   "metadata": {},
   "source": [
    "## Import - Packages"
   ]
  },
  {
   "cell_type": "code",
   "execution_count": 3,
   "metadata": {},
   "outputs": [],
   "source": [
    "# -------------------------------------------------------------------------- #\n",
    "# GENERAL #\n",
    "import os\n",
    "import pathlib\n",
    "import sys\n",
    "import zipfile\n",
    "\n",
    "# -------------------------------------------------------------------------- #\n",
    "# ANALYSIS\n",
    "import numpy as np\n",
    "import pandas as pd\n",
    "import siuba as s\n",
    "\n",
    "# -------------------------------------------------------------------------- #\n",
    "# LOCAL #\n",
    "from tracking_counties.config import SEED, ROOT_DIR"
   ]
  },
  {
   "attachments": {},
   "cell_type": "markdown",
   "metadata": {},
   "source": [
    "# Unzip Shapefiles"
   ]
  },
  {
   "attachments": {},
   "cell_type": "markdown",
   "metadata": {},
   "source": [
    "## Counties"
   ]
  },
  {
   "cell_type": "code",
   "execution_count": 9,
   "metadata": {},
   "outputs": [],
   "source": [
    "# Define paths for zipped shapefiles and extract files\n",
    "shapefile_parent_dir = pathlib.PurePath(ROOT_DIR, 'data', 'shapefiles')\n",
    "zip_path = pathlib.PurePath(shapefile_parent_dir, 'tl_2023_us_county.zip')\n",
    "extract_path = pathlib.PurePath(shapefile_parent_dir, '2023_county')\n",
    "\n",
    "# Execute \n",
    "with zipfile.ZipFile(zip_path, 'r') as zip_ref:\n",
    "    zip_ref.extractall(extract_path)"
   ]
  }
 ],
 "metadata": {
  "kernelspec": {
   "display_name": ".tracking_counties",
   "language": "python",
   "name": "python3"
  },
  "language_info": {
   "codemirror_mode": {
    "name": "ipython",
    "version": 3
   },
   "file_extension": ".py",
   "mimetype": "text/x-python",
   "name": "python",
   "nbconvert_exporter": "python",
   "pygments_lexer": "ipython3",
   "version": "3.9.9"
  },
  "orig_nbformat": 4
 },
 "nbformat": 4,
 "nbformat_minor": 2
}
