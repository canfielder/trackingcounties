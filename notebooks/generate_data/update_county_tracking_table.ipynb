{
 "cells": [
  {
   "attachments": {},
   "cell_type": "markdown",
   "metadata": {},
   "source": [
    "# Purpose\n",
    "Update County Tracking table to account for new county entities."
   ]
  },
  {
   "attachments": {},
   "cell_type": "markdown",
   "metadata": {},
   "source": [
    "# Setup\n",
    "## Import - Packages"
   ]
  },
  {
   "cell_type": "code",
   "execution_count": 21,
   "metadata": {},
   "outputs": [],
   "source": [
    "# ---------------------------------------------------------------------------- #\n",
    "# GENERAL #\n",
    "import datetime as dt\n",
    "import geopandas as gpd\n",
    "import os\n",
    "import pathlib as pl\n",
    "import shutil\n",
    "import sys\n",
    "\n",
    "import geopandas as gpd\n",
    "\n",
    "# ---------------------------------------------------------------------------- #\n",
    "# ANALYSIS\n",
    "import numpy as np\n",
    "import pandas as pd\n",
    "import siuba as s\n",
    "\n",
    "# ---------------------------------------------------------------------------- #\n",
    "# LOCAL #\n",
    "from tracking_counties.config import SEED, ROOT_DIR"
   ]
  },
  {
   "attachments": {},
   "cell_type": "markdown",
   "metadata": {},
   "source": [
    "## Import - Tables"
   ]
  },
  {
   "cell_type": "code",
   "execution_count": 22,
   "metadata": {},
   "outputs": [],
   "source": [
    "tables_path = pl.PurePath(\n",
    "    ROOT_DIR, 'data', 'tables',\n",
    "    )\n",
    "county_path = pl.PurePath(\n",
    "    tables_path, 'list_of_counties_active.csv'\n",
    "    )\n",
    "\n",
    "dct_dtypes = {\n",
    "    'state_code': str,\n",
    "    'state_name': str,\n",
    "    'county_code': str,\n",
    "    'county_name': str,\n",
    "    'visited': int,\n",
    "    # 'date': str,\n",
    "}\n",
    "\n",
    "df_visited = pd.read_csv(\n",
    "    county_path, \n",
    "    dtype       = dct_dtypes,\n",
    "    parse_dates = ['date']\n",
    "    )"
   ]
  },
  {
   "attachments": {},
   "cell_type": "markdown",
   "metadata": {},
   "source": [
    "## Import - Shapefiles"
   ]
  },
  {
   "cell_type": "code",
   "execution_count": 23,
   "metadata": {},
   "outputs": [],
   "source": [
    "sf_path = pl.PurePath(\n",
    "    ROOT_DIR, 'data', 'shapefiles', '2023_county', 'tl_2023_us_county.shp'\n",
    ")\n",
    "df_sf = gpd.read_file(str(sf_path))\n",
    "\n",
    "# Set column names to lower case\n",
    "df_sf.columns = [col.lower() for col in df_sf.columns]"
   ]
  },
  {
   "attachments": {},
   "cell_type": "markdown",
   "metadata": {},
   "source": [
    "## Import - State And Territory Codes"
   ]
  },
  {
   "cell_type": "code",
   "execution_count": 24,
   "metadata": {},
   "outputs": [],
   "source": [
    "file_path = pl.PurePath(\n",
    "    tables_path, 'state_and_territory_codes.txt'\n",
    ")\n",
    "df_codes = pd.read_csv(file_path, sep='|')\n",
    "\n",
    "# Set c0lumn names to lower case\n",
    "df_codes.columns = [col.lower() for col in df_codes.columns]"
   ]
  },
  {
   "attachments": {},
   "cell_type": "markdown",
   "metadata": {},
   "source": [
    "# Processing"
   ]
  },
  {
   "attachments": {},
   "cell_type": "markdown",
   "metadata": {},
   "source": [
    "## Create GEOID For Tracking File"
   ]
  },
  {
   "cell_type": "code",
   "execution_count": 25,
   "metadata": {},
   "outputs": [],
   "source": [
    "def create_geoid(row, state_col = 'state_code', county_col = 'county_code'):\n",
    "    return f'{row[state_col].zfill(2)}{row[county_col].zfill(3)}'\n",
    "\n",
    "df_visited['geoid'] = df_visited.apply(\n",
    "    create_geoid, axis = 1\n",
    ")"
   ]
  },
  {
   "attachments": {},
   "cell_type": "markdown",
   "metadata": {},
   "source": [
    "## Join Tracking to Shapefile"
   ]
  },
  {
   "cell_type": "code",
   "execution_count": 26,
   "metadata": {},
   "outputs": [],
   "source": [
    "df = (\n",
    "    df_sf\n",
    "    >> s.left_join(\n",
    "        s._,\n",
    "        df_visited,\n",
    "        by = 'geoid'\n",
    "    )\n",
    ")"
   ]
  },
  {
   "attachments": {},
   "cell_type": "markdown",
   "metadata": {},
   "source": [
    "## Update State and Territory Code Table"
   ]
  },
  {
   "cell_type": "code",
   "execution_count": 27,
   "metadata": {},
   "outputs": [],
   "source": [
    "# Rename Columns\n",
    "df_codes = (\n",
    "    df_codes \n",
    "    >> s.rename(\n",
    "        state_code = s._.state,\n",
    "        state = s._.stusab\n",
    "    )\n",
    "    >> s.select(-s._.statens)\n",
    ")\n",
    "\n",
    "# Add leading Zero\n",
    "df_codes['state_code'] = df_codes['state_code'].apply(\n",
    "    lambda x: str(x).zfill(2)\n",
    ")"
   ]
  },
  {
   "attachments": {},
   "cell_type": "markdown",
   "metadata": {},
   "source": [
    "# Create New Active Record\n",
    "We only need a new table if we detect new entities have been created"
   ]
  },
  {
   "attachments": {},
   "cell_type": "markdown",
   "metadata": {},
   "source": [
    "## Check for NAs"
   ]
  },
  {
   "cell_type": "code",
   "execution_count": 28,
   "metadata": {},
   "outputs": [
    {
     "name": "stdout",
     "output_type": "stream",
     "text": [
      "New Records: 102\n"
     ]
    }
   ],
   "source": [
    "n_na = df['state_name'].isna().sum()\n",
    "print(f'New Records: {n_na:,}')"
   ]
  },
  {
   "attachments": {},
   "cell_type": "markdown",
   "metadata": {},
   "source": [
    "## Fill NAs"
   ]
  },
  {
   "cell_type": "code",
   "execution_count": 30,
   "metadata": {},
   "outputs": [],
   "source": [
    "# Update Visited\n",
    "df = (\n",
    "    df\n",
    "    # >> s.filter(s._.visited.isna())\n",
    "    >> s.mutate(\n",
    "        visited = s.if_else(\n",
    "            s._.visited.isna(),\n",
    "            0,\n",
    "            s._.visited\n",
    "        )\n",
    "    )\n",
    ")\n",
    "\n",
    "# Convert visited to integer\n",
    "df['visited'] = df['visited'].astype(int)\n",
    "\n",
    "# Update state code\n",
    "df['state_code'] = df['geoid'].apply(\n",
    "    lambda x: x[:2]\n",
    ")\n",
    "\n",
    "# Update county code\n",
    "df['county_code'] = df['geoid'].apply(\n",
    "    lambda x: x[2:]\n",
    ")\n",
    "\n",
    "# Update county name\n",
    "df['county_name'] = df['name']\n",
    "\n",
    "# Update state name\n",
    "df = (\n",
    "    df\n",
    "    >> s.select(\n",
    "        -s._.state,\n",
    "        -s._.state_name\n",
    "    )\n",
    "    >> s.left_join(\n",
    "        s._,\n",
    "        df_codes,\n",
    "        by = 'state_code'\n",
    "    )\n",
    ")"
   ]
  },
  {
   "attachments": {},
   "cell_type": "markdown",
   "metadata": {},
   "source": [
    "# Export"
   ]
  },
  {
   "attachments": {},
   "cell_type": "markdown",
   "metadata": {},
   "source": [
    "## Log Old Record"
   ]
  },
  {
   "cell_type": "code",
   "execution_count": 50,
   "metadata": {},
   "outputs": [
    {
     "data": {
      "text/plain": [
       "'/Users/evancanfield/Projects/tracking_counties/data/tables/list_of_counties_active.csv'"
      ]
     },
     "execution_count": 50,
     "metadata": {},
     "output_type": "execute_result"
    }
   ],
   "source": [
    "str(county_path)"
   ]
  },
  {
   "cell_type": "code",
   "execution_count": 52,
   "metadata": {},
   "outputs": [],
   "source": [
    "if n_na > 0:\n",
    "    # ARCHIVE CURRENT RECORD ---------------------------------------------------\n",
    "    # Create today's timestamp\n",
    "    ts = dt.datetime.now().strftime('%Y-%m-%dT%H:%M:%S')\n",
    "\n",
    "    # Define file path for archive\n",
    "    new_file_name = f'list_of_counties_active_{ts}.csv'\n",
    "    archive_path = pl.PurePath(tables_path, 'archive', new_file_name)\n",
    "\n",
    "    # Move file\n",
    "    shutil.move(county_path, archive_path)\n",
    "\n",
    "    # SAVE NEW RECORD ----------------------------------------------------------\n",
    "    df_output = df[df_visited.columns]\n",
    "    df_output.to_csv(str(county_path), index = False)\n"
   ]
  }
 ],
 "metadata": {
  "kernelspec": {
   "display_name": ".tracking_counties",
   "language": "python",
   "name": "python3"
  },
  "language_info": {
   "codemirror_mode": {
    "name": "ipython",
    "version": 3
   },
   "file_extension": ".py",
   "mimetype": "text/x-python",
   "name": "python",
   "nbconvert_exporter": "python",
   "pygments_lexer": "ipython3",
   "version": "3.9.9"
  },
  "orig_nbformat": 4
 },
 "nbformat": 4,
 "nbformat_minor": 2
}
